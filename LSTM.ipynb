{
 "cells": [
  {
   "cell_type": "code",
   "execution_count": 1,
   "id": "e4e56788",
   "metadata": {},
   "outputs": [],
   "source": [
    "# Load, explore and plot data\n",
    "import pandas as pd\n",
    "import warnings\n",
    "warnings.filterwarnings('ignore')\n",
    "import numpy as np\n",
    "import seaborn as sns\n",
    "\n",
    "# Text pre-processing\n",
    "import re\n",
    "import nltk\n",
    "from nltk.stem.wordnet import WordNetLemmatizer\n",
    "from nltk.tokenize import sent_tokenize,word_tokenize\n",
    "from nltk.corpus import stopwords\n",
    "from nltk.stem.porter import PorterStemmer\n",
    "import string\n",
    "PS = PorterStemmer()\n",
    "from sklearn.feature_extraction.text import TfidfVectorizer,CountVectorizer\n",
    "STOPWORDS=set(stopwords.words('english'))\n",
    "lemmatizer= WordNetLemmatizer()"
   ]
  },
  {
   "cell_type": "code",
   "execution_count": 2,
   "id": "982d8947",
   "metadata": {},
   "outputs": [],
   "source": [
    "#cyber security tweets\n",
    "cyber_tweets = pd.read_csv('/home/ubuntu/Desktop/cyber_security/text_classification_corpus/cybersecurity_tweets.csv')"
   ]
  },
  {
   "cell_type": "code",
   "execution_count": 3,
   "id": "d7ea4043",
   "metadata": {},
   "outputs": [],
   "source": [
    "#non cyber security tweets\n",
    "non_cyber_tweets = pd.read_csv('/home/ubuntu/Desktop/cyber_security/text_classification_corpus/not_cybersecurity_tweets.csv')"
   ]
  },
  {
   "cell_type": "code",
   "execution_count": 4,
   "id": "acdc2346",
   "metadata": {},
   "outputs": [],
   "source": [
    "# append both dataframe\n",
    "df = cyber_tweets.append(non_cyber_tweets,ignore_index=True)"
   ]
  },
  {
   "cell_type": "code",
   "execution_count": 5,
   "id": "40fce804",
   "metadata": {},
   "outputs": [
    {
     "data": {
      "text/html": [
       "<div>\n",
       "<style scoped>\n",
       "    .dataframe tbody tr th:only-of-type {\n",
       "        vertical-align: middle;\n",
       "    }\n",
       "\n",
       "    .dataframe tbody tr th {\n",
       "        vertical-align: top;\n",
       "    }\n",
       "\n",
       "    .dataframe thead th {\n",
       "        text-align: right;\n",
       "    }\n",
       "</style>\n",
       "<table border=\"1\" class=\"dataframe\">\n",
       "  <thead>\n",
       "    <tr style=\"text-align: right;\">\n",
       "      <th></th>\n",
       "      <th>text</th>\n",
       "      <th>label</th>\n",
       "    </tr>\n",
       "  </thead>\n",
       "  <tbody>\n",
       "    <tr>\n",
       "      <th>0</th>\n",
       "      <td>#AI Robo-Advisers and the Future of Financial ...</td>\n",
       "      <td>1</td>\n",
       "    </tr>\n",
       "    <tr>\n",
       "      <th>1</th>\n",
       "      <td>Hackers causing havoc on Mexican banking syste...</td>\n",
       "      <td>1</td>\n",
       "    </tr>\n",
       "    <tr>\n",
       "      <th>2</th>\n",
       "      <td>CVE-2019-13127 An issue was discovered in mxGr...</td>\n",
       "      <td>1</td>\n",
       "    </tr>\n",
       "    <tr>\n",
       "      <th>3</th>\n",
       "      <td>How to protect your online identity #labourcyb...</td>\n",
       "      <td>1</td>\n",
       "    </tr>\n",
       "    <tr>\n",
       "      <th>4</th>\n",
       "      <td>Forensic Acquisition - Shadow Cyber Sec  https...</td>\n",
       "      <td>1</td>\n",
       "    </tr>\n",
       "    <tr>\n",
       "      <th>...</th>\n",
       "      <td>...</td>\n",
       "      <td>...</td>\n",
       "    </tr>\n",
       "    <tr>\n",
       "      <th>399995</th>\n",
       "      <td>Attackers Test Weak Passwords in Purple Fox Ma...</td>\n",
       "      <td>0</td>\n",
       "    </tr>\n",
       "    <tr>\n",
       "      <th>399996</th>\n",
       "      <td>Aviso para los usuarios de correo de @AytoMurc...</td>\n",
       "      <td>0</td>\n",
       "    </tr>\n",
       "    <tr>\n",
       "      <th>399997</th>\n",
       "      <td>NPM had an obfuscated birthday-like easter egg...</td>\n",
       "      <td>0</td>\n",
       "    </tr>\n",
       "    <tr>\n",
       "      <th>399998</th>\n",
       "      <td>CPUの脆弱性「Spectre」に対応してAMDがリリースしたパッチに問題があることをInt...</td>\n",
       "      <td>0</td>\n",
       "    </tr>\n",
       "    <tr>\n",
       "      <th>399999</th>\n",
       "      <td>A new Android banking malware named Octo has a...</td>\n",
       "      <td>0</td>\n",
       "    </tr>\n",
       "  </tbody>\n",
       "</table>\n",
       "<p>400000 rows × 2 columns</p>\n",
       "</div>"
      ],
      "text/plain": [
       "                                                     text  label\n",
       "0       #AI Robo-Advisers and the Future of Financial ...      1\n",
       "1       Hackers causing havoc on Mexican banking syste...      1\n",
       "2       CVE-2019-13127 An issue was discovered in mxGr...      1\n",
       "3       How to protect your online identity #labourcyb...      1\n",
       "4       Forensic Acquisition - Shadow Cyber Sec  https...      1\n",
       "...                                                   ...    ...\n",
       "399995  Attackers Test Weak Passwords in Purple Fox Ma...      0\n",
       "399996  Aviso para los usuarios de correo de @AytoMurc...      0\n",
       "399997  NPM had an obfuscated birthday-like easter egg...      0\n",
       "399998  CPUの脆弱性「Spectre」に対応してAMDがリリースしたパッチに問題があることをInt...      0\n",
       "399999  A new Android banking malware named Octo has a...      0\n",
       "\n",
       "[400000 rows x 2 columns]"
      ]
     },
     "execution_count": 5,
     "metadata": {},
     "output_type": "execute_result"
    }
   ],
   "source": [
    "df"
   ]
  },
  {
   "cell_type": "code",
   "execution_count": 6,
   "id": "8d379570",
   "metadata": {},
   "outputs": [
    {
     "name": "stdout",
     "output_type": "stream",
     "text": [
      "<class 'pandas.core.frame.DataFrame'>\n",
      "RangeIndex: 400000 entries, 0 to 399999\n",
      "Data columns (total 2 columns):\n",
      " #   Column  Non-Null Count   Dtype \n",
      "---  ------  --------------   ----- \n",
      " 0   text    400000 non-null  object\n",
      " 1   label   400000 non-null  int64 \n",
      "dtypes: int64(1), object(1)\n",
      "memory usage: 6.1+ MB\n"
     ]
    }
   ],
   "source": [
    "# printing the information about dataframe\n",
    "df.info()"
   ]
  },
  {
   "cell_type": "code",
   "execution_count": 7,
   "id": "65046d48",
   "metadata": {},
   "outputs": [
    {
     "data": {
      "text/html": [
       "<div>\n",
       "<style scoped>\n",
       "    .dataframe tbody tr th:only-of-type {\n",
       "        vertical-align: middle;\n",
       "    }\n",
       "\n",
       "    .dataframe tbody tr th {\n",
       "        vertical-align: top;\n",
       "    }\n",
       "\n",
       "    .dataframe thead th {\n",
       "        text-align: right;\n",
       "    }\n",
       "</style>\n",
       "<table border=\"1\" class=\"dataframe\">\n",
       "  <thead>\n",
       "    <tr style=\"text-align: right;\">\n",
       "      <th></th>\n",
       "      <th>text</th>\n",
       "    </tr>\n",
       "  </thead>\n",
       "  <tbody>\n",
       "    <tr>\n",
       "      <th>count</th>\n",
       "      <td>400000</td>\n",
       "    </tr>\n",
       "    <tr>\n",
       "      <th>unique</th>\n",
       "      <td>390161</td>\n",
       "    </tr>\n",
       "    <tr>\n",
       "      <th>top</th>\n",
       "      <td>Our Ddos service! Please use the grardstresser...</td>\n",
       "    </tr>\n",
       "    <tr>\n",
       "      <th>freq</th>\n",
       "      <td>149</td>\n",
       "    </tr>\n",
       "  </tbody>\n",
       "</table>\n",
       "</div>"
      ],
      "text/plain": [
       "                                                     text\n",
       "count                                              400000\n",
       "unique                                             390161\n",
       "top     Our Ddos service! Please use the grardstresser...\n",
       "freq                                                  149"
      ]
     },
     "execution_count": 7,
     "metadata": {},
     "output_type": "execute_result"
    }
   ],
   "source": [
    "#description of the dataframe\n",
    "df.describe(include = 'object')"
   ]
  },
  {
   "cell_type": "code",
   "execution_count": 8,
   "id": "ec76c8d8",
   "metadata": {},
   "outputs": [],
   "source": [
    "#dropping the duplicates\n",
    "df.drop_duplicates(inplace = True)"
   ]
  },
  {
   "cell_type": "code",
   "execution_count": 9,
   "id": "5b8fb97c",
   "metadata": {},
   "outputs": [
    {
     "data": {
      "text/plain": [
       "text     0\n",
       "label    0\n",
       "dtype: int64"
      ]
     },
     "execution_count": 9,
     "metadata": {},
     "output_type": "execute_result"
    }
   ],
   "source": [
    "# checking the missing values\n",
    "df.isna().sum()"
   ]
  },
  {
   "cell_type": "code",
   "execution_count": 10,
   "id": "75e83a14",
   "metadata": {},
   "outputs": [
    {
     "data": {
      "text/plain": [
       "<AxesSubplot:xlabel='label', ylabel='count'>"
      ]
     },
     "execution_count": 10,
     "metadata": {},
     "output_type": "execute_result"
    },
    {
     "data": {
      "image/png": "[encoded data removed]",
      "text/plain": [
       "<Figure size 432x288 with 1 Axes>"
      ]
     },
     "metadata": {
      "needs_background": "light"
     },
     "output_type": "display_data"
    }
   ],
   "source": [
    "# checking the data is balanced or not\n",
    "sns.countplot(x ='label', data = df)"
   ]
  },
  {
   "cell_type": "code",
   "execution_count": 11,
   "id": "b7cf5e22",
   "metadata": {},
   "outputs": [],
   "source": [
    "# text preprcessing\n",
    "def tokenize(text):\n",
    "    \n",
    "    text = re.sub(r'http\\S+', '', text)\n",
    "\n",
    "    text = re.sub(\"[^a-zA-Z]\", \" \", text.lower())#panctuations\n",
    "    \n",
    "    tokens = word_tokenize(text) #split text into words\n",
    "    \n",
    "    words = [w for w in tokens if w not in STOPWORDS] #remove stopwords\n",
    "    \n",
    "    lemmed_words = [lemmatizer.lemmatize(w) for w in words] #lemmatizing  Base meaning\n",
    "    \n",
    "    clean_tokens = []\n",
    "    \n",
    "    for i in lemmed_words: #appending all the lemmed words to clean_tokens\n",
    "        clean_tokens.append(i)\n",
    "        \n",
    "    text = \" \".join(clean_tokens) #joining text in cleaned tokens based on white spaces\n",
    "    \n",
    "    return text"
   ]
  },
  {
   "cell_type": "code",
   "execution_count": 12,
   "id": "f5c62c27",
   "metadata": {},
   "outputs": [
    {
     "data": {
      "application/vnd.jupyter.widget-view+json": {
       "model_id": "799fce0ed9ad436786b9086d407dfd11",
       "version_major": 2,
       "version_minor": 0
      },
      "text/plain": [
       "Pandas Apply:   0%|          | 0/390162 [00:00<?, ?it/s]"
      ]
     },
     "metadata": {},
     "output_type": "display_data"
    }
   ],
   "source": [
    "# A package which efficiently applies any function to a pandas dataframe or series in the fastest available manner\n",
    "import swifter\n",
    "df['cleaned_text'] = df['text'].swifter.apply(lambda x:tokenize(x))"
   ]
  },
  {
   "cell_type": "code",
   "execution_count": 13,
   "id": "8e540664",
   "metadata": {},
   "outputs": [
    {
     "data": {
      "text/html": [
       "<div>\n",
       "<style scoped>\n",
       "    .dataframe tbody tr th:only-of-type {\n",
       "        vertical-align: middle;\n",
       "    }\n",
       "\n",
       "    .dataframe tbody tr th {\n",
       "        vertical-align: top;\n",
       "    }\n",
       "\n",
       "    .dataframe thead th {\n",
       "        text-align: right;\n",
       "    }\n",
       "</style>\n",
       "<table border=\"1\" class=\"dataframe\">\n",
       "  <thead>\n",
       "    <tr style=\"text-align: right;\">\n",
       "      <th></th>\n",
       "      <th>text</th>\n",
       "      <th>label</th>\n",
       "      <th>cleaned_text</th>\n",
       "    </tr>\n",
       "  </thead>\n",
       "  <tbody>\n",
       "    <tr>\n",
       "      <th>0</th>\n",
       "      <td>#AI Robo-Advisers and the Future of Financial ...</td>\n",
       "      <td>1</td>\n",
       "      <td>ai robo adviser future financial advice datapr...</td>\n",
       "    </tr>\n",
       "    <tr>\n",
       "      <th>1</th>\n",
       "      <td>Hackers causing havoc on Mexican banking syste...</td>\n",
       "      <td>1</td>\n",
       "      <td>hacker causing havoc mexican banking system cy...</td>\n",
       "    </tr>\n",
       "    <tr>\n",
       "      <th>2</th>\n",
       "      <td>CVE-2019-13127 An issue was discovered in mxGr...</td>\n",
       "      <td>1</td>\n",
       "      <td>cve issue discovered mxgraph related diagram p...</td>\n",
       "    </tr>\n",
       "    <tr>\n",
       "      <th>3</th>\n",
       "      <td>How to protect your online identity #labourcyb...</td>\n",
       "      <td>1</td>\n",
       "      <td>protect online identity labourcyberattack cybe...</td>\n",
       "    </tr>\n",
       "    <tr>\n",
       "      <th>4</th>\n",
       "      <td>Forensic Acquisition - Shadow Cyber Sec  https...</td>\n",
       "      <td>1</td>\n",
       "      <td>forensic acquisition shadow cyber sec cybersec...</td>\n",
       "    </tr>\n",
       "    <tr>\n",
       "      <th>...</th>\n",
       "      <td>...</td>\n",
       "      <td>...</td>\n",
       "      <td>...</td>\n",
       "    </tr>\n",
       "    <tr>\n",
       "      <th>399995</th>\n",
       "      <td>Attackers Test Weak Passwords in Purple Fox Ma...</td>\n",
       "      <td>0</td>\n",
       "      <td>attacker test weak password purple fox malware...</td>\n",
       "    </tr>\n",
       "    <tr>\n",
       "      <th>399996</th>\n",
       "      <td>Aviso para los usuarios de correo de @AytoMurc...</td>\n",
       "      <td>0</td>\n",
       "      <td>aviso para los usuarios de correo de aytomurci...</td>\n",
       "    </tr>\n",
       "    <tr>\n",
       "      <th>399997</th>\n",
       "      <td>NPM had an obfuscated birthday-like easter egg...</td>\n",
       "      <td>0</td>\n",
       "      <td>npm obfuscated birthday like easter egg mistak...</td>\n",
       "    </tr>\n",
       "    <tr>\n",
       "      <th>399998</th>\n",
       "      <td>CPUの脆弱性「Spectre」に対応してAMDがリリースしたパッチに問題があることをInt...</td>\n",
       "      <td>0</td>\n",
       "      <td>cpu spectre amd intel gigazine intelcpu</td>\n",
       "    </tr>\n",
       "    <tr>\n",
       "      <th>399999</th>\n",
       "      <td>A new Android banking malware named Octo has a...</td>\n",
       "      <td>0</td>\n",
       "      <td>new android banking malware named octo appeare...</td>\n",
       "    </tr>\n",
       "  </tbody>\n",
       "</table>\n",
       "<p>390162 rows × 3 columns</p>\n",
       "</div>"
      ],
      "text/plain": [
       "                                                     text  label  \\\n",
       "0       #AI Robo-Advisers and the Future of Financial ...      1   \n",
       "1       Hackers causing havoc on Mexican banking syste...      1   \n",
       "2       CVE-2019-13127 An issue was discovered in mxGr...      1   \n",
       "3       How to protect your online identity #labourcyb...      1   \n",
       "4       Forensic Acquisition - Shadow Cyber Sec  https...      1   \n",
       "...                                                   ...    ...   \n",
       "399995  Attackers Test Weak Passwords in Purple Fox Ma...      0   \n",
       "399996  Aviso para los usuarios de correo de @AytoMurc...      0   \n",
       "399997  NPM had an obfuscated birthday-like easter egg...      0   \n",
       "399998  CPUの脆弱性「Spectre」に対応してAMDがリリースしたパッチに問題があることをInt...      0   \n",
       "399999  A new Android banking malware named Octo has a...      0   \n",
       "\n",
       "                                             cleaned_text  \n",
       "0       ai robo adviser future financial advice datapr...  \n",
       "1       hacker causing havoc mexican banking system cy...  \n",
       "2       cve issue discovered mxgraph related diagram p...  \n",
       "3       protect online identity labourcyberattack cybe...  \n",
       "4       forensic acquisition shadow cyber sec cybersec...  \n",
       "...                                                   ...  \n",
       "399995  attacker test weak password purple fox malware...  \n",
       "399996  aviso para los usuarios de correo de aytomurci...  \n",
       "399997  npm obfuscated birthday like easter egg mistak...  \n",
       "399998            cpu spectre amd intel gigazine intelcpu  \n",
       "399999  new android banking malware named octo appeare...  \n",
       "\n",
       "[390162 rows x 3 columns]"
      ]
     },
     "execution_count": 13,
     "metadata": {},
     "output_type": "execute_result"
    }
   ],
   "source": [
    "df"
   ]
  },
  {
   "cell_type": "code",
   "execution_count": 63,
   "id": "9b69a523",
   "metadata": {},
   "outputs": [
    {
     "data": {
      "text/plain": [
       "'ai robo adviser future financial advice dataprotection privacy infosec cybersecurity bigdata ai'"
      ]
     },
     "execution_count": 63,
     "metadata": {},
     "output_type": "execute_result"
    }
   ],
   "source": [
    "df['cleaned_text'][0]"
   ]
  },
  {
   "cell_type": "code",
   "execution_count": 14,
   "id": "8ba51c8c",
   "metadata": {},
   "outputs": [],
   "source": [
    "# dropping uncleaned data in the dataframe\n",
    "df.drop(columns='text',inplace=True)"
   ]
  },
  {
   "cell_type": "code",
   "execution_count": 15,
   "id": "0d5cd050",
   "metadata": {},
   "outputs": [
    {
     "data": {
      "text/html": [
       "<div>\n",
       "<style scoped>\n",
       "    .dataframe tbody tr th:only-of-type {\n",
       "        vertical-align: middle;\n",
       "    }\n",
       "\n",
       "    .dataframe tbody tr th {\n",
       "        vertical-align: top;\n",
       "    }\n",
       "\n",
       "    .dataframe thead th {\n",
       "        text-align: right;\n",
       "    }\n",
       "</style>\n",
       "<table border=\"1\" class=\"dataframe\">\n",
       "  <thead>\n",
       "    <tr style=\"text-align: right;\">\n",
       "      <th></th>\n",
       "      <th>label</th>\n",
       "      <th>cleaned_text</th>\n",
       "    </tr>\n",
       "  </thead>\n",
       "  <tbody>\n",
       "    <tr>\n",
       "      <th>0</th>\n",
       "      <td>1</td>\n",
       "      <td>ai robo adviser future financial advice datapr...</td>\n",
       "    </tr>\n",
       "    <tr>\n",
       "      <th>1</th>\n",
       "      <td>1</td>\n",
       "      <td>hacker causing havoc mexican banking system cy...</td>\n",
       "    </tr>\n",
       "    <tr>\n",
       "      <th>2</th>\n",
       "      <td>1</td>\n",
       "      <td>cve issue discovered mxgraph related diagram p...</td>\n",
       "    </tr>\n",
       "    <tr>\n",
       "      <th>3</th>\n",
       "      <td>1</td>\n",
       "      <td>protect online identity labourcyberattack cybe...</td>\n",
       "    </tr>\n",
       "    <tr>\n",
       "      <th>4</th>\n",
       "      <td>1</td>\n",
       "      <td>forensic acquisition shadow cyber sec cybersec...</td>\n",
       "    </tr>\n",
       "    <tr>\n",
       "      <th>...</th>\n",
       "      <td>...</td>\n",
       "      <td>...</td>\n",
       "    </tr>\n",
       "    <tr>\n",
       "      <th>399995</th>\n",
       "      <td>0</td>\n",
       "      <td>attacker test weak password purple fox malware...</td>\n",
       "    </tr>\n",
       "    <tr>\n",
       "      <th>399996</th>\n",
       "      <td>0</td>\n",
       "      <td>aviso para los usuarios de correo de aytomurci...</td>\n",
       "    </tr>\n",
       "    <tr>\n",
       "      <th>399997</th>\n",
       "      <td>0</td>\n",
       "      <td>npm obfuscated birthday like easter egg mistak...</td>\n",
       "    </tr>\n",
       "    <tr>\n",
       "      <th>399998</th>\n",
       "      <td>0</td>\n",
       "      <td>cpu spectre amd intel gigazine intelcpu</td>\n",
       "    </tr>\n",
       "    <tr>\n",
       "      <th>399999</th>\n",
       "      <td>0</td>\n",
       "      <td>new android banking malware named octo appeare...</td>\n",
       "    </tr>\n",
       "  </tbody>\n",
       "</table>\n",
       "<p>390162 rows × 2 columns</p>\n",
       "</div>"
      ],
      "text/plain": [
       "        label                                       cleaned_text\n",
       "0           1  ai robo adviser future financial advice datapr...\n",
       "1           1  hacker causing havoc mexican banking system cy...\n",
       "2           1  cve issue discovered mxgraph related diagram p...\n",
       "3           1  protect online identity labourcyberattack cybe...\n",
       "4           1  forensic acquisition shadow cyber sec cybersec...\n",
       "...       ...                                                ...\n",
       "399995      0  attacker test weak password purple fox malware...\n",
       "399996      0  aviso para los usuarios de correo de aytomurci...\n",
       "399997      0  npm obfuscated birthday like easter egg mistak...\n",
       "399998      0            cpu spectre amd intel gigazine intelcpu\n",
       "399999      0  new android banking malware named octo appeare...\n",
       "\n",
       "[390162 rows x 2 columns]"
      ]
     },
     "execution_count": 15,
     "metadata": {},
     "output_type": "execute_result"
    }
   ],
   "source": [
    "df"
   ]
  },
  {
   "cell_type": "code",
   "execution_count": 16,
   "id": "f57f4f01",
   "metadata": {},
   "outputs": [
    {
     "data": {
      "text/html": [
       "<div>\n",
       "<style scoped>\n",
       "    .dataframe tbody tr th:only-of-type {\n",
       "        vertical-align: middle;\n",
       "    }\n",
       "\n",
       "    .dataframe tbody tr th {\n",
       "        vertical-align: top;\n",
       "    }\n",
       "\n",
       "    .dataframe thead th {\n",
       "        text-align: right;\n",
       "    }\n",
       "</style>\n",
       "<table border=\"1\" class=\"dataframe\">\n",
       "  <thead>\n",
       "    <tr style=\"text-align: right;\">\n",
       "      <th></th>\n",
       "      <th>cleaned_text</th>\n",
       "    </tr>\n",
       "  </thead>\n",
       "  <tbody>\n",
       "    <tr>\n",
       "      <th>count</th>\n",
       "      <td>390162</td>\n",
       "    </tr>\n",
       "    <tr>\n",
       "      <th>unique</th>\n",
       "      <td>299991</td>\n",
       "    </tr>\n",
       "    <tr>\n",
       "      <th>top</th>\n",
       "      <td>saman staan sterk tegen de vaccinatieplicht la...</td>\n",
       "    </tr>\n",
       "    <tr>\n",
       "      <th>freq</th>\n",
       "      <td>790</td>\n",
       "    </tr>\n",
       "  </tbody>\n",
       "</table>\n",
       "</div>"
      ],
      "text/plain": [
       "                                             cleaned_text\n",
       "count                                              390162\n",
       "unique                                             299991\n",
       "top     saman staan sterk tegen de vaccinatieplicht la...\n",
       "freq                                                  790"
      ]
     },
     "execution_count": 16,
     "metadata": {},
     "output_type": "execute_result"
    }
   ],
   "source": [
    "#description of the dataframe\n",
    "df.describe(include = 'object')"
   ]
  },
  {
   "cell_type": "code",
   "execution_count": 17,
   "id": "503c9797",
   "metadata": {},
   "outputs": [],
   "source": [
    "#dropping the duplicates\n",
    "df.drop_duplicates(inplace = True)"
   ]
  },
  {
   "cell_type": "code",
   "execution_count": 18,
   "id": "a5bbf7c5",
   "metadata": {},
   "outputs": [
    {
     "data": {
      "text/html": [
       "<div>\n",
       "<style scoped>\n",
       "    .dataframe tbody tr th:only-of-type {\n",
       "        vertical-align: middle;\n",
       "    }\n",
       "\n",
       "    .dataframe tbody tr th {\n",
       "        vertical-align: top;\n",
       "    }\n",
       "\n",
       "    .dataframe thead th {\n",
       "        text-align: right;\n",
       "    }\n",
       "</style>\n",
       "<table border=\"1\" class=\"dataframe\">\n",
       "  <thead>\n",
       "    <tr style=\"text-align: right;\">\n",
       "      <th></th>\n",
       "      <th>label</th>\n",
       "      <th>cleaned_text</th>\n",
       "    </tr>\n",
       "  </thead>\n",
       "  <tbody>\n",
       "    <tr>\n",
       "      <th>0</th>\n",
       "      <td>1</td>\n",
       "      <td>ai robo adviser future financial advice datapr...</td>\n",
       "    </tr>\n",
       "    <tr>\n",
       "      <th>1</th>\n",
       "      <td>1</td>\n",
       "      <td>hacker causing havoc mexican banking system cy...</td>\n",
       "    </tr>\n",
       "    <tr>\n",
       "      <th>2</th>\n",
       "      <td>1</td>\n",
       "      <td>cve issue discovered mxgraph related diagram p...</td>\n",
       "    </tr>\n",
       "    <tr>\n",
       "      <th>3</th>\n",
       "      <td>1</td>\n",
       "      <td>protect online identity labourcyberattack cybe...</td>\n",
       "    </tr>\n",
       "    <tr>\n",
       "      <th>4</th>\n",
       "      <td>1</td>\n",
       "      <td>forensic acquisition shadow cyber sec cybersec...</td>\n",
       "    </tr>\n",
       "    <tr>\n",
       "      <th>...</th>\n",
       "      <td>...</td>\n",
       "      <td>...</td>\n",
       "    </tr>\n",
       "    <tr>\n",
       "      <th>399993</th>\n",
       "      <td>0</td>\n",
       "      <td>creating company data breach response plan dat...</td>\n",
       "    </tr>\n",
       "    <tr>\n",
       "      <th>399996</th>\n",
       "      <td>0</td>\n",
       "      <td>aviso para los usuarios de correo de aytomurci...</td>\n",
       "    </tr>\n",
       "    <tr>\n",
       "      <th>399997</th>\n",
       "      <td>0</td>\n",
       "      <td>npm obfuscated birthday like easter egg mistak...</td>\n",
       "    </tr>\n",
       "    <tr>\n",
       "      <th>399998</th>\n",
       "      <td>0</td>\n",
       "      <td>cpu spectre amd intel gigazine intelcpu</td>\n",
       "    </tr>\n",
       "    <tr>\n",
       "      <th>399999</th>\n",
       "      <td>0</td>\n",
       "      <td>new android banking malware named octo appeare...</td>\n",
       "    </tr>\n",
       "  </tbody>\n",
       "</table>\n",
       "<p>300017 rows × 2 columns</p>\n",
       "</div>"
      ],
      "text/plain": [
       "        label                                       cleaned_text\n",
       "0           1  ai robo adviser future financial advice datapr...\n",
       "1           1  hacker causing havoc mexican banking system cy...\n",
       "2           1  cve issue discovered mxgraph related diagram p...\n",
       "3           1  protect online identity labourcyberattack cybe...\n",
       "4           1  forensic acquisition shadow cyber sec cybersec...\n",
       "...       ...                                                ...\n",
       "399993      0  creating company data breach response plan dat...\n",
       "399996      0  aviso para los usuarios de correo de aytomurci...\n",
       "399997      0  npm obfuscated birthday like easter egg mistak...\n",
       "399998      0            cpu spectre amd intel gigazine intelcpu\n",
       "399999      0  new android banking malware named octo appeare...\n",
       "\n",
       "[300017 rows x 2 columns]"
      ]
     },
     "execution_count": 18,
     "metadata": {},
     "output_type": "execute_result"
    }
   ],
   "source": [
    "df"
   ]
  },
  {
   "cell_type": "code",
   "execution_count": 19,
   "id": "d8f89300",
   "metadata": {},
   "outputs": [],
   "source": [
    "# Get the Independent Features\n",
    "x=df.drop('label',axis=1)"
   ]
  },
  {
   "cell_type": "code",
   "execution_count": 20,
   "id": "6087ec10",
   "metadata": {},
   "outputs": [],
   "source": [
    "# get dependent features\n",
    "y=df['label']"
   ]
  },
  {
   "cell_type": "markdown",
   "id": "3489797d",
   "metadata": {},
   "source": [
    "# Train test split"
   ]
  },
  {
   "cell_type": "code",
   "execution_count": 21,
   "id": "3510398e",
   "metadata": {},
   "outputs": [],
   "source": [
    "from sklearn.model_selection import train_test_split\n",
    "x_train, x_test, y_train, y_test = train_test_split(x['cleaned_text'],y,test_size=0.2, random_state=25)"
   ]
  },
  {
   "cell_type": "markdown",
   "id": "90f1992a",
   "metadata": {},
   "source": [
    "# Tokenization"
   ]
  },
  {
   "cell_type": "code",
   "execution_count": 22,
   "id": "957a0fd6",
   "metadata": {},
   "outputs": [],
   "source": [
    "# Defining pre-processing parameters\n",
    "max_len = 50 \n",
    "trunc_type = 'post'\n",
    "padding_type = 'post'\n",
    "oov_tok = '<OOV>' # out of vocabulary token\n",
    "vocab_size = 500"
   ]
  },
  {
   "cell_type": "code",
   "execution_count": 23,
   "id": "3f3fb30d",
   "metadata": {},
   "outputs": [
    {
     "name": "stderr",
     "output_type": "stream",
     "text": [
      "2023-01-14 09:40:34.491893: I tensorflow/core/platform/cpu_feature_guard.cc:193] This TensorFlow binary is optimized with oneAPI Deep Neural Network Library (oneDNN) to use the following CPU instructions in performance-critical operations:  AVX2 FMA\n",
      "To enable them in other operations, rebuild TensorFlow with the appropriate compiler flags.\n",
      "2023-01-14 09:40:35.203221: W tensorflow/compiler/xla/stream_executor/platform/default/dso_loader.cc:64] Could not load dynamic library 'libcudart.so.11.0'; dlerror: libcudart.so.11.0: cannot open shared object file: No such file or directory\n",
      "2023-01-14 09:40:35.203271: I tensorflow/compiler/xla/stream_executor/cuda/cudart_stub.cc:29] Ignore above cudart dlerror if you do not have a GPU set up on your machine.\n",
      "2023-01-14 09:40:37.110862: W tensorflow/compiler/xla/stream_executor/platform/default/dso_loader.cc:64] Could not load dynamic library 'libnvinfer.so.7'; dlerror: libnvinfer.so.7: cannot open shared object file: No such file or directory\n",
      "2023-01-14 09:40:37.111014: W tensorflow/compiler/xla/stream_executor/platform/default/dso_loader.cc:64] Could not load dynamic library 'libnvinfer_plugin.so.7'; dlerror: libnvinfer_plugin.so.7: cannot open shared object file: No such file or directory\n",
      "2023-01-14 09:40:37.111029: W tensorflow/compiler/tf2tensorrt/utils/py_utils.cc:38] TF-TRT Warning: Cannot dlopen some TensorRT libraries. If you would like to use Nvidia GPU with TensorRT, please make sure the missing libraries mentioned above are installed properly.\n"
     ]
    }
   ],
   "source": [
    "#The Tokenizer API from TensorFlow Keras can split sentences into words and encode them into integers.\n",
    "from keras.preprocessing.text import Tokenizer\n",
    "tokenizer = Tokenizer(num_words = vocab_size, \n",
    "                      char_level = False,\n",
    "                      oov_token = oov_tok)\n",
    "tokenizer.fit_on_texts(x_train)"
   ]
  },
  {
   "cell_type": "code",
   "execution_count": 76,
   "id": "eecf0543",
   "metadata": {},
   "outputs": [],
   "source": [
    "#saving tokenizer\n",
    "import pickle\n",
    "\n",
    "# saving\n",
    "with open('tokenizer.pickle', 'wb') as handle:\n",
    "    pickle.dump(tokenizer, handle, protocol=pickle.HIGHEST_PROTOCOL)\n",
    "\n",
    "# loading\n",
    "# with open('tokenizer.pickle', 'rb') as handle:\n",
    "#     tokenizer = pickle.load(handle)"
   ]
  },
  {
   "cell_type": "code",
   "execution_count": 24,
   "id": "1393ff59",
   "metadata": {},
   "outputs": [
    {
     "data": {
      "text/plain": [
       "198763"
      ]
     },
     "execution_count": 24,
     "metadata": {},
     "output_type": "execute_result"
    }
   ],
   "source": [
    "# Get the word_index\n",
    "word_index = tokenizer.word_index\n",
    "total_words = len(word_index)\n",
    "total_words"
   ]
  },
  {
   "cell_type": "markdown",
   "id": "1692873c",
   "metadata": {},
   "source": [
    "# Sequence and padding"
   ]
  },
  {
   "cell_type": "code",
   "execution_count": 25,
   "id": "5304a4a0",
   "metadata": {},
   "outputs": [],
   "source": [
    "#importing pad sequences for \n",
    "from tensorflow.keras.preprocessing.sequence import pad_sequences"
   ]
  },
  {
   "cell_type": "code",
   "execution_count": 26,
   "id": "024e3898",
   "metadata": {},
   "outputs": [],
   "source": [
    "#representing  each sentence by sequences of numbers using texts_to_sequencesfrom Tokenizer object\n",
    "#for train data\n",
    "training_sequences = tokenizer.texts_to_sequences(x_train)\n",
    "training_padded = pad_sequences(training_sequences,\n",
    "                                maxlen = max_len,\n",
    "                                padding = padding_type,\n",
    "                                truncating = trunc_type)"
   ]
  },
  {
   "cell_type": "code",
   "execution_count": 27,
   "id": "982c52bc",
   "metadata": {},
   "outputs": [],
   "source": [
    "# for test data\n",
    "testing_sequences = tokenizer.texts_to_sequences(x_test)\n",
    "testing_padded = pad_sequences(testing_sequences,\n",
    "                               maxlen = max_len,\n",
    "                               padding = padding_type,\n",
    "                               truncating = trunc_type)"
   ]
  },
  {
   "cell_type": "code",
   "execution_count": 28,
   "id": "833fd5a7",
   "metadata": {},
   "outputs": [
    {
     "name": "stdout",
     "output_type": "stream",
     "text": [
      "Shape of training tensor:  (240013, 50)\n",
      "Shape of testing tensor:  (60004, 50)\n"
     ]
    }
   ],
   "source": [
    "#The shape of training and testing padded (tensor):\n",
    "print('Shape of training tensor: ', training_padded.shape)\n",
    "print('Shape of testing tensor: ', testing_padded.shape)"
   ]
  },
  {
   "cell_type": "markdown",
   "id": "931c01df",
   "metadata": {},
   "source": [
    "# Define the model architecture and train the model"
   ]
  },
  {
   "cell_type": "code",
   "execution_count": 32,
   "id": "1e95a9ce",
   "metadata": {},
   "outputs": [],
   "source": [
    "#import model dependencies\n",
    "from tensorflow.keras.models import Sequential\n",
    "from tensorflow.keras.layers import LSTM,Dense, Embedding, Dropout, GlobalAveragePooling1D,Flatten,SpatialDropout1D\n",
    "from tensorflow.keras.callbacks import EarlyStopping"
   ]
  },
  {
   "cell_type": "code",
   "execution_count": 33,
   "id": "cc0dcea1",
   "metadata": {},
   "outputs": [],
   "source": [
    "# Define parameter\n",
    "embedding_dim = 16\n",
    "drop_value = 0.2\n",
    "n_dense = 24\n",
    "n_lstm = 128\n",
    "drop_lstm = 0.2\n",
    "\n",
    "# Define LSTM Model \n",
    "model1 = Sequential()\n",
    "model1.add(Embedding(vocab_size, embedding_dim, input_length=max_len))\n",
    "model1.add(SpatialDropout1D(drop_lstm))\n",
    "model1.add(LSTM(n_lstm, return_sequences=False))\n",
    "model1.add(Dropout(drop_lstm))\n",
    "model1.add(Dense(1, activation='sigmoid'))"
   ]
  },
  {
   "cell_type": "code",
   "execution_count": 34,
   "id": "8393b920",
   "metadata": {},
   "outputs": [
    {
     "name": "stdout",
     "output_type": "stream",
     "text": [
      "Model: \"sequential_1\"\n",
      "_________________________________________________________________\n",
      " Layer (type)                Output Shape              Param #   \n",
      "=================================================================\n",
      " embedding_1 (Embedding)     (None, 50, 16)            8000      \n",
      "                                                                 \n",
      " spatial_dropout1d (SpatialD  (None, 50, 16)           0         \n",
      " ropout1D)                                                       \n",
      "                                                                 \n",
      " lstm (LSTM)                 (None, 128)               74240     \n",
      "                                                                 \n",
      " dropout (Dropout)           (None, 128)               0         \n",
      "                                                                 \n",
      " dense (Dense)               (None, 1)                 129       \n",
      "                                                                 \n",
      "=================================================================\n",
      "Total params: 82,369\n",
      "Trainable params: 82,369\n",
      "Non-trainable params: 0\n",
      "_________________________________________________________________\n"
     ]
    }
   ],
   "source": [
    "#summary of the model\n",
    "model1.summary()"
   ]
  },
  {
   "cell_type": "code",
   "execution_count": 35,
   "id": "5b785a0f",
   "metadata": {},
   "outputs": [],
   "source": [
    "# Compile the model\n",
    "model1.compile(loss = 'binary_crossentropy',\n",
    "               optimizer = 'adam',\n",
    "               metrics = ['accuracy'])"
   ]
  },
  {
   "cell_type": "code",
   "execution_count": 36,
   "id": "d3490ffe",
   "metadata": {},
   "outputs": [
    {
     "name": "stdout",
     "output_type": "stream",
     "text": [
      "Epoch 1/10\n"
     ]
    },
    {
     "name": "stderr",
     "output_type": "stream",
     "text": [
      "2023-01-14 09:56:32.170669: W tensorflow/tsl/framework/cpu_allocator_impl.cc:82] Allocation of 48002600 exceeds 10% of free system memory.\n"
     ]
    },
    {
     "name": "stdout",
     "output_type": "stream",
     "text": [
      "7501/7501 - 339s - loss: 0.1147 - accuracy: 0.9657 - val_loss: 0.0900 - val_accuracy: 0.9737 - 339s/epoch - 45ms/step\n",
      "Epoch 2/10\n",
      "7501/7501 - 357s - loss: 0.0828 - accuracy: 0.9751 - val_loss: 0.0734 - val_accuracy: 0.9758 - 357s/epoch - 48ms/step\n",
      "Epoch 3/10\n",
      "7501/7501 - 356s - loss: 0.0747 - accuracy: 0.9758 - val_loss: 0.0719 - val_accuracy: 0.9761 - 356s/epoch - 47ms/step\n",
      "Epoch 4/10\n",
      "7501/7501 - 373s - loss: 0.0715 - accuracy: 0.9763 - val_loss: 0.0701 - val_accuracy: 0.9761 - 373s/epoch - 50ms/step\n",
      "Epoch 5/10\n",
      "7501/7501 - 388s - loss: 0.0696 - accuracy: 0.9772 - val_loss: 0.0681 - val_accuracy: 0.9781 - 388s/epoch - 52ms/step\n",
      "Epoch 6/10\n",
      "7501/7501 - 371s - loss: 0.0673 - accuracy: 0.9783 - val_loss: 0.0675 - val_accuracy: 0.9782 - 371s/epoch - 50ms/step\n",
      "Epoch 7/10\n",
      "7501/7501 - 372s - loss: 0.0654 - accuracy: 0.9787 - val_loss: 0.0663 - val_accuracy: 0.9780 - 372s/epoch - 50ms/step\n",
      "Epoch 8/10\n",
      "7501/7501 - 394s - loss: 0.0641 - accuracy: 0.9795 - val_loss: 0.0657 - val_accuracy: 0.9786 - 394s/epoch - 53ms/step\n",
      "Epoch 9/10\n",
      "7501/7501 - 385s - loss: 0.0627 - accuracy: 0.9798 - val_loss: 0.0648 - val_accuracy: 0.9789 - 385s/epoch - 51ms/step\n",
      "Epoch 10/10\n",
      "7501/7501 - 380s - loss: 0.0620 - accuracy: 0.9800 - val_loss: 0.0648 - val_accuracy: 0.9791 - 380s/epoch - 51ms/step\n"
     ]
    }
   ],
   "source": [
    "# Train the model:\n",
    "early_stop = EarlyStopping(monitor='val_loss', patience=2)\n",
    "history = model1.fit(training_padded,\n",
    "                     y_train,\n",
    "                     epochs=10, \n",
    "                     validation_data=(testing_padded, y_test),\n",
    "                     callbacks =[early_stop],\n",
    "                     verbose=2)"
   ]
  },
  {
   "cell_type": "code",
   "execution_count": 37,
   "id": "b506c96a",
   "metadata": {},
   "outputs": [],
   "source": [
    "#saving lstm model\n",
    "model1.save('lstm_model.h5')"
   ]
  },
  {
   "cell_type": "code",
   "execution_count": 72,
   "id": "a0593a0f",
   "metadata": {},
   "outputs": [],
   "source": [
    "# preprocessing the test data\n",
    "def prediction(text):                     \n",
    "    ctext = tokenize(text)\n",
    "    tokenized_text = tokenizer.texts_to_sequences(np.array([ctext]))\n",
    "    vector = pad_sequences(tokenized_text, maxlen=50)\n",
    "    return vector\n",
    "\n",
    "vector = prediction('aviso para los usuarios de correo de aytomurcia recibido correo con intento phishing seguridad alertas ciberseguridad')"
   ]
  },
  {
   "cell_type": "code",
   "execution_count": 79,
   "id": "d25b1702",
   "metadata": {},
   "outputs": [
    {
     "name": "stdout",
     "output_type": "stream",
     "text": [
      "1/1 [==============================] - 0s 24ms/step\n",
      "cyber security tweets\n"
     ]
    }
   ],
   "source": [
    "# model prediction\n",
    "prediction = model1.predict(vector)\n",
    "if np.round(prediction) == 0:\n",
    "    print('non cyber security tweets')\n",
    "else:\n",
    "    print('cyber security tweets')"
   ]
  },
  {
   "cell_type": "code",
   "execution_count": null,
   "id": "581873db",
   "metadata": {},
   "outputs": [],
   "source": []
  }
 ],
 "metadata": {
  "kernelspec": {
   "display_name": "Python 3 (ipykernel)",
   "language": "python",
   "name": "python3"
  },
  "language_info": {
   "codemirror_mode": {
    "name": "ipython",
    "version": 3
   },
   "file_extension": ".py",
   "mimetype": "text/x-python",
   "name": "python",
   "nbconvert_exporter": "python",
   "pygments_lexer": "ipython3",
   "version": "3.9.12"
  }
 },
 "nbformat": 4,
 "nbformat_minor": 5
}
